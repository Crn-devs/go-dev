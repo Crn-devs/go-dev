{
 "cells": [
  {
   "cell_type": "markdown",
   "id": "e33da198",
   "metadata": {},
   "source": [
    "This file is a basic test file showing off the librarys and there usage"
   ]
  },
  {
   "cell_type": "code",
   "execution_count": 1,
   "id": "b0a3f53a",
   "metadata": {},
   "outputs": [],
   "source": [
    "import (\n",
    "\t\"fmt\" // standard output\n",
    "\n",
    "\t// numerical & linear algebra (NumPy equivalent)\n",
    "\t\"gonum.org/v1/gonum/mat\"\n",
    "\n",
    "\t// data frames (pandas equivalent)\n",
    "\n",
    "\t// plotting (matplotlib equivalent)\n",
    "\t\"gonum.org/v1/plot\"\n",
    "\t\"gonum.org/v1/plot/plotter\"\n",
    "\t\"gonum.org/v1/plot/vg\"\n",
    "\n",
    "\t// notebook-only: markdown/latex output\n",
    "\t\"github.com/janpfeifer/gonb/gonbui\"\n",
    ")\n"
   ]
  },
  {
   "cell_type": "code",
   "execution_count": null,
   "id": "9879dddd",
   "metadata": {},
   "outputs": [
    {
     "name": "stdout",
     "output_type": "stream",
     "text": [
      "Matrix A:\n",
      "⎡1  2⎤\n",
      "⎣3  4⎦\n",
      "\n",
      "Inverse of A:\n",
      "⎡-1.9999999999999996   0.9999999999999998⎤\n",
      "⎣ 1.4999999999999998  -0.4999999999999999⎦\n",
      "\n"
     ]
    },
    {
     "data": {
      "text/markdown": [
       "\n",
       "### Quick Check\n",
       "\n",
       "Inline math $x^2$, and block:\n",
       "\n",
       "$$f(x) = \\int_{-\\infty}^{\\infty} e^{-x^2} dx$$\n"
      ]
     },
     "metadata": {},
     "output_type": "display_data"
    },
    {
     "name": "stdout",
     "output_type": "stream",
     "text": [
      "Saved plot.png\n"
     ]
    }
   ],
   "source": [
    "%%\n",
    "\t// quick demo so you can test\n",
    "\tgonbui.DisplayMarkdown(`\n",
    "### Quick Check\n",
    "\n",
    "Inline math $x^2$, and block:\n",
    "\n",
    "$$f(x) = \\int_{-\\infty}^{\\infty} e^{-x^2} dx$$\n",
    "`)\n",
    "\n",
    "\t// simple matrix with gonum\n",
    "\tA := mat.NewDense(2, 2, []float64{1, 2, 3, 4})\n",
    "\tfmt.Printf(\"Matrix A:\\n%v\\n\\n\", mat.Formatted(A))\n",
    "\n",
    "\tvar inv mat.Dense\n",
    "\tinv.Inverse(A)\n",
    "\tfmt.Printf(\"Inverse of A:\\n%v\\n\\n\", mat.Formatted(&inv))\n",
    "\n",
    "\t// simple plot\n",
    "\tpts := plotter.XYs{{X: 0, Y: 0}, {X: 0, Y: 1}, {X: 0.5, Y: 1}, {X: 0.5, Y: 0.6}, {X: 0, Y: 0.6}}\n",
    "\tp := plot.New()\n",
    "\tline, _ := plotter.NewLine(pts)\n",
    "\tp.Add(line)\n",
    "\tp.Title.Text = \"y = x^2\"\n",
    "\tp.X.Label.Text = \"x\"\n",
    "\tp.Y.Label.Text = \"y\"\n",
    "\t_ = p.Save(4*vg.Inch, 3*vg.Inch, \"plot.png\")"
   ]
  }
 ],
 "metadata": {
  "kernelspec": {
   "display_name": "Go (gonb)",
   "language": "go",
   "name": "gonb"
  },
  "language_info": {
   "codemirror_mode": "",
   "file_extension": ".go",
   "mimetype": "text/x-go",
   "name": "go",
   "nbconvert_exporter": "",
   "pygments_lexer": "",
   "version": "go1.24.2"
  }
 },
 "nbformat": 4,
 "nbformat_minor": 5
}
