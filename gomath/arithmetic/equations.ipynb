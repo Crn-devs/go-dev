{
 "cells": [
  {
   "cell_type": "markdown",
   "id": "79592915",
   "metadata": {},
   "source": [
    "Printing equations using LaTeX in go\n",
    "\n",
    "1. Basic LaTeX math syntax\n",
    "\n",
    "// Powers & indices\n",
    "\"$x^2$\"              // superscript: x²\n",
    "\"$x_i$\"              // subscript: xᵢ\n",
    "\"$x_{ij}$\"           // multi-character subscript: xᵢⱼ\n",
    "\n",
    "// Fractions & roots\n",
    "\"$\\\\frac{a}{b}$\"     // fraction: a/b\n",
    "\"$\\\\sqrt{x}$\"        // square root: √x\n",
    "\"$\\\\sqrt[3]{x}$\"     // cube root: ∛x\n",
    "\n",
    "// Multiplication & division\n",
    "\"$a \\\\cdot b$\"       // centered dot: a · b\n",
    "\"$a \\\\times b$\"      // multiplication cross: a × b\n",
    "\"$a \\\\div b$\"        // division symbol: a ÷ b\n",
    "\n",
    "// Sums & products\n",
    "\"$\\\\sum_{i=1}^n i$\"  // summation: ∑ from i=1 to n\n",
    "\"$\\\\prod_{k=1}^n k$\" // product: ∏ from k=1 to n\n",
    "\n",
    "// Greek letters\n",
    "\"$\\\\pi r^2$\"         // pi: πr²\n",
    "\"$\\\\alpha + \\\\beta$\" // alpha + beta\n",
    "\"$\\\\lambda$\"         // lambda: λ\n",
    "\n",
    "// Calculus\n",
    "\"$\\\\lim_{x \\\\to 0} f(x)$\"  // limit: lim x→0 f(x)\n",
    "\"$\\\\int_0^1 x^2 dx$\"       // integral: ∫₀¹ x² dx\n",
    "\"$\\\\frac{dy}{dx}$\"         // derivative: dy/dx\n",
    "\n",
    "// Logic & sets\n",
    "\"$A \\\\cup B$\"        // union: A ∪ B\n",
    "\"$A \\\\cap B$\"        // intersection: A ∩ B\n",
    "\"$A \\\\setminus B$\"   // set difference: A ∖ B\n",
    "\"$\\\\infty$\"          // infinity: ∞\n",
    "\"$\\\\forall x$\"       // for all: ∀x\n",
    "\"$\\\\exists y$\"       // there exists: ∃y\n",
    "\n",
    "\n",
    "Inline math → $a^2 + b^2 = c^2$\n",
    "\n",
    "Display math (bigger, centered) → $$\\frac{1}{n}\\sum_{i=1}^n x_i$$\n",
    "\n",
    "Common symbols:\n",
    "\n",
    "Fractions: \\frac{a}{b} → \n",
    "ab\n",
    "b\n",
    "a\n",
    "\t​\n",
    "\n",
    "\n",
    "Square root: \\sqrt{x} → \n",
    "x\n",
    "x"
   ]
  },
  {
   "cell_type": "code",
   "execution_count": null,
   "id": "43dd6b40",
   "metadata": {},
   "outputs": [],
   "source": [
    "import \t\"github.com/janpfeifer/gonb/gonbui\""
   ]
  },
  {
   "cell_type": "code",
   "execution_count": null,
   "id": "a2c2eb28",
   "metadata": {},
   "outputs": [],
   "source": [
    "// Addition\n",
    "%%\n",
    "\n",
    "\tx, y := 5, 4\n",
    "\tresult := 5 + 4\n",
    "\n",
    "\teq := fmt.Sprintf(\"$%v + %v = %v$\", x, y, result)\n",
    "\n",
    "\tgonbui.DisplayMarkdown(eq)"
   ]
  },
  {
   "cell_type": "code",
   "execution_count": null,
   "id": "2c8905bd",
   "metadata": {},
   "outputs": [],
   "source": [
    "// Subtraction\n",
    "%%\n",
    "\n",
    "\tx, y := 5, 4\n",
    "\tresult := 5 - 4\n",
    "\n",
    "\teq := fmt.Sprintf(\"$%v - %v = %v$\", x, y, result)\n",
    "\n",
    "\tgonbui.DisplayMarkdown(eq)"
   ]
  },
  {
   "cell_type": "code",
   "execution_count": null,
   "id": "3015345a",
   "metadata": {},
   "outputs": [
    {
     "data": {
      "text/markdown": [
       "$ 5 \\times 4 = 20$"
      ]
     },
     "metadata": {},
     "output_type": "display_data"
    },
    {
     "data": {
      "text/markdown": [
       "$ 5 \\times 4 = 20$"
      ]
     },
     "metadata": {},
     "output_type": "display_data"
    }
   ],
   "source": [
    "// Multiplication\n",
    "%%\n",
    "\n",
    "\tx, y := 5, 4\n",
    "\tresult := 5 * 4\n",
    "\n",
    "\t// either use escape characters or `` for double escaping\n",
    "\teq := fmt.Sprintf(`$ %v \\times %v = %v$`, x, y, result)\n",
    "\teq2 := fmt.Sprintf(\"$ %v \\\\times %v = %v$\", x, y, result)\n",
    "\n",
    "\n",
    "\tgonbui.DisplayMarkdown(eq)\n",
    "\tgonbui.DisplayMarkdown(eq2)"
   ]
  },
  {
   "cell_type": "code",
   "execution_count": 17,
   "id": "04dca03e",
   "metadata": {},
   "outputs": [
    {
     "data": {
      "text/markdown": [
       "$ 5 \\div 4 = 1.25$"
      ]
     },
     "metadata": {},
     "output_type": "display_data"
    }
   ],
   "source": [
    "// Division\n",
    "%%\n",
    "x,y := 5.00,4.00\n",
    "result := x/y\n",
    "\n",
    "eq := fmt.Sprintf(`$ %v \\div %v = %v$`, x, y, result)\n",
    "\n",
    "gonbui.DisplayMarkdown(eq)"
   ]
  },
  {
   "cell_type": "code",
   "execution_count": 19,
   "id": "71d941d0",
   "metadata": {},
   "outputs": [
    {
     "data": {
      "text/markdown": [
       "$ \\frac{5}{4} = 1.25$"
      ]
     },
     "metadata": {},
     "output_type": "display_data"
    }
   ],
   "source": [
    "// fractions\n",
    "%%\n",
    "x,y := 5.00,4.00\n",
    "result := x/y\n",
    "\n",
    "eq := fmt.Sprintf(`$ \\frac{%v}{%v} = %v$`, x, y, result)\n",
    "\n",
    "gonbui.DisplayMarkdown(eq)"
   ]
  },
  {
   "cell_type": "code",
   "execution_count": null,
   "id": "19d14c62",
   "metadata": {},
   "outputs": [
    {
     "data": {
      "text/markdown": [
       "$ 3x(4 + y) = 42$"
      ]
     },
     "metadata": {},
     "output_type": "display_data"
    }
   ],
   "source": [
    "// Algebra\n",
    "%%\n",
    "x,y := 7,-2\n",
    "\n",
    "result := 3 * x * (4 + y)\n",
    "\n",
    "eq := fmt.Sprintf(`$ 3x(4 + y) = %v$`, result)\n",
    "\n",
    "gonbui.DisplayMarkdown(eq)"
   ]
  },
  {
   "cell_type": "code",
   "execution_count": 24,
   "id": "945ad87d",
   "metadata": {},
   "outputs": [
    {
     "data": {
      "text/markdown": [
       "$ -y-\\frac{x + 3}{z} = 0$"
      ]
     },
     "metadata": {},
     "output_type": "display_data"
    }
   ],
   "source": [
    "// Algebra\n",
    "%%\n",
    "x,y,z := 7,-2, 5\n",
    "\n",
    "result := -y-(x+3)/z\n",
    "\n",
    "eq := fmt.Sprintf(`$ -y-\\frac{x + 3}{z} = %v$`, result)\n",
    "\n",
    "gonbui.DisplayMarkdown(eq)"
   ]
  }
 ],
 "metadata": {
  "kernelspec": {
   "display_name": "Go (gonb)",
   "language": "go",
   "name": "gonb"
  },
  "language_info": {
   "codemirror_mode": "",
   "file_extension": ".go",
   "mimetype": "text/x-go",
   "name": "go",
   "nbconvert_exporter": "",
   "pygments_lexer": "",
   "version": "go1.24.2"
  }
 },
 "nbformat": 4,
 "nbformat_minor": 5
}
